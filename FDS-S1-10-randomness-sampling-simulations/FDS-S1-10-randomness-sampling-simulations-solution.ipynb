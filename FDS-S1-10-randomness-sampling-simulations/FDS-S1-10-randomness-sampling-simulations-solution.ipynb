{
 "cells": [
  {
   "cell_type": "markdown",
   "metadata": {},
   "source": [
    "# Inf2 - Foundations of Data Science\n",
    "## S1 Week 10: Randomness, Sampling and Simulations\n",
    "\n",
    "**Learning outcomes:** In this lab you will learn about functions that generate random numbers, sampling, and how they can be used to run statistical simulations. By the end of this lab you should be able to:\n",
    "- sample from probability distributions using numpy functions,\n",
    "- sample from discrete sets of items,\n",
    "- run statistical simulations to compute the distribution of a statistic,\n",
    "- identify samples of convenience and problems with them, and\n",
    "- code more complex statistical processes so that they can be run/sampled from.\n",
    "\n",
    "We will go over simulations and randomness, from the topic on \"Randomness, sampling and simulation\".\n",
    "\n",
    "Parts of this lab is based on Lab 5 from the [Berkley Data 8 course](http://data8.org/).\n",
    "\n",
    "**Data set information:** The data used in this lab will contain salary data and other statistics for basketball players from the 2014-2015 NBA season. This data was collected from the following sports analytic sites: [Basketball Reference](http://www.basketball-reference.com) and [Spotrac](http://www.spotrac.com)."
   ]
  },
  {
   "cell_type": "markdown",
   "metadata": {},
   "source": [
    "**Pair programming:** We encourage you to work in pairs again. Remember that the magic command you need to get the link for the session with your partner is:"
   ]
  },
  {
   "cell_type": "code",
   "execution_count": 1,
   "metadata": {},
   "outputs": [
    {
     "name": "stdout",
     "output_type": "stream",
     "text": [
      "https://noteable.edina.ac.uk/user/jbw4vzrioh3iptep96vrsa/tree?token=JRt_WXUhTFaePlncg03C7Q\r\n"
     ]
    }
   ],
   "source": [
    "!echo \"https://noteable.edina.ac.uk/user/$(jupyter notebook list | grep -oP '(?<=user\\/).*(?=\\/\\?)' )/tree?token=$( jupyter notebook list | grep -oP '(?<=token=).*(?= ::)' )\""
   ]
  },
  {
   "cell_type": "markdown",
   "metadata": {},
   "source": [
    "Let us start, as usual, by importing the necessary libraries set up the imports by running the cell below."
   ]
  },
  {
   "cell_type": "code",
   "execution_count": 2,
   "metadata": {},
   "outputs": [],
   "source": [
    "import numpy as np\n",
    "import pandas as pd\n",
    "import matplotlib\n",
    "%matplotlib inline\n",
    "import matplotlib.pyplot as plt\n",
    "\n",
    "# New libraries\n",
    "from scipy.stats import uniform, norm, expon"
   ]
  },
  {
   "cell_type": "markdown",
   "metadata": {},
   "source": [
    "## A. Sampling from a probability distribution\n",
    "\n",
    "First we'll test sampling from probability distributions in python. For a uniform distribution between 0 and 1, this can be done using the `np.random.uniform` function. \n",
    "\n",
    "**Exercise 01:** \n",
    "- Generate 1000 samples from a uniform distribution using `np.random.uniform(size = integer)`,where you substitute `integer` with the sample size. \n",
    "- Plot a histogram of the results. \n",
    "- Create a new figure with three subplots, where you repeat this with more samples (say 100000, i.e. $10^5$) and fewer samples (say 100). What do you observe? \n",
    "\n",
    "*Hint: You should get something that looks like the uniform distribution in Figure 1 of the Randomness, Simulation and Sampling lecture notes.*"
   ]
  },
  {
   "cell_type": "code",
   "execution_count": 3,
   "metadata": {},
   "outputs": [
    {
     "data": {
      "text/plain": [
       "Text(0, 0.5, 'Frequency')"
      ]
     },
     "execution_count": 3,
     "metadata": {},
     "output_type": "execute_result"
    },
    {
     "data": {
      "image/png": "[encoded data removed]",
      "text/plain": [
       "<Figure size 432x288 with 1 Axes>"
      ]
     },
     "metadata": {
      "needs_background": "light"
     },
     "output_type": "display_data"
    }
   ],
   "source": [
    "# Your code\n",
    "x = np.random.uniform(size=1000)\n",
    "plt.hist(x, 10)\n",
    "plt.xlabel(\"x\")\n",
    "plt.ylabel(\"Frequency\")"
   ]
  },
  {
   "cell_type": "code",
   "execution_count": 4,
   "metadata": {},
   "outputs": [
    {
     "data": {
      "image/png": "[encoded data removed]",
      "text/plain": [
       "<Figure size 432x144 with 3 Axes>"
      ]
     },
     "metadata": {
      "needs_background": "light"
     },
     "output_type": "display_data"
    }
   ],
   "source": [
    "# Your code\n",
    "x1 = np.random.uniform(size=100)\n",
    "x2 = np.random.uniform(size=1000)\n",
    "x3 = np.random.uniform(size=100000)\n",
    "fig, (ax1, ax2, ax3) = plt.subplots(1,3, figsize=(6,2))\n",
    "ax1.hist(x1, 10)\n",
    "ax1.set_xlabel(\"x\")\n",
    "ax1.set_ylabel(\"Frequency\")\n",
    "ax2.hist(x2, 10)\n",
    "ax2.set_xlabel(\"x\")\n",
    "ax3.hist(x3, 10)\n",
    "ax3.set_xlabel(\"x\")\n",
    "plt.tight_layout()"
   ]
  },
  {
   "cell_type": "markdown",
   "metadata": {},
   "source": [
    "Your answer: \n",
    "The more samples we use the more it looks like a uniform distribution."
   ]
  },
  {
   "cell_type": "markdown",
   "metadata": {},
   "source": [
    "**Exercise 02:** Repeat this exercise for  normal and exponential distributions using `np.random.normal` and `np.random.exponential`, using a 2x3 layout."
   ]
  },
  {
   "cell_type": "code",
   "execution_count": 5,
   "metadata": {},
   "outputs": [
    {
     "data": {
      "image/png": "[encoded data removed]",
      "text/plain": [
       "<Figure size 432x288 with 6 Axes>"
      ]
     },
     "metadata": {
      "needs_background": "light"
     },
     "output_type": "display_data"
    }
   ],
   "source": [
    "# Your code\n",
    "x1 = np.random.normal(size=100)\n",
    "x2 = np.random.normal(size=1000)\n",
    "x3 = np.random.normal(size=100000)\n",
    "y1 = np.random.exponential(size=100)\n",
    "y2 = np.random.exponential(size=1000)\n",
    "y3 = np.random.exponential(size=100000)\n",
    "fig, ((ax1, ax2, ax3),(ax4, ax5, ax6)) = plt.subplots(2,3, figsize=(6, 4))\n",
    "ax1.hist(x1, 10)\n",
    "ax1.set_ylabel(\"Frequency\")\n",
    "ax2.hist(x2, 10)\n",
    "ax2.set_title(\"Normal distribution\")\n",
    "ax3.hist(x3, 10)\n",
    "ax4.hist(y1, 10)\n",
    "ax4.set_ylabel(\"Frequency\")\n",
    "ax4.set_xlabel(\"x\")\n",
    "ax5.hist(y2, 10)\n",
    "ax5.set_title(\"Exponential distribution\")\n",
    "ax5.set_xlabel(\"x\")\n",
    "ax6.hist(y3, 10)\n",
    "ax6.set_xlabel(\"x\")\n",
    "plt.tight_layout()"
   ]
  },
  {
   "cell_type": "markdown",
   "metadata": {},
   "source": [
    "## B. Sampling from a set of discrete items\n",
    "\n",
    "One day, when you come home after a long week, you see a hot bowl of nachos waiting on the dining table! Let's say that whenever you take a nacho from the bowl, it will either have only **cheese**, only **salsa**, **both** cheese and salsa, or **neither** cheese nor salsa (a sad tortilla chip indeed). \n",
    "\n",
    "Let's try and simulate taking nachos from the bowl at random using the function, `np.random.choice(...)`.\n",
    "\n",
    "### `np.random.choice`\n",
    "\n",
    "`np.random.choice` picks one item at random from the given array. It is equally likely to pick any of the items. Run the cell below several times, and observe how the results change."
   ]
  },
  {
   "cell_type": "code",
   "execution_count": 6,
   "metadata": {},
   "outputs": [
    {
     "data": {
      "text/plain": [
       "'both'"
      ]
     },
     "execution_count": 6,
     "metadata": {},
     "output_type": "execute_result"
    }
   ],
   "source": [
    "nachos = ['cheese', 'salsa', 'both', 'neither']\n",
    "np.random.choice(nachos)"
   ]
  },
  {
   "cell_type": "markdown",
   "metadata": {},
   "source": [
    "### Sampling with replacement\n",
    "\n",
    "To repeat this process multiple times, pass in an int `n` as the second argument to return `n` different random choices. By default, `np.random.choice` samples **with replacement** and returns an *array* of items. \n",
    "\n",
    "Run the next cell to see an example of sampling with replacement 3 times from the `nachos` array."
   ]
  },
  {
   "cell_type": "code",
   "execution_count": 7,
   "metadata": {},
   "outputs": [
    {
     "data": {
      "text/plain": [
       "array(['neither', 'neither', 'salsa'], dtype='<U7')"
      ]
     },
     "execution_count": 7,
     "metadata": {},
     "output_type": "execute_result"
    }
   ],
   "source": [
    "np.random.choice(nachos, 3)"
   ]
  },
  {
   "cell_type": "markdown",
   "metadata": {},
   "source": [
    "### Sampling without replacement\n",
    "\n",
    "Let's see what happens when we sample without replacement. Use the `replace=False` option to sample 3 items repeatedly."
   ]
  },
  {
   "cell_type": "code",
   "execution_count": 8,
   "metadata": {},
   "outputs": [
    {
     "data": {
      "text/plain": [
       "array(['cheese', 'salsa', 'neither'], dtype='<U7')"
      ]
     },
     "execution_count": 8,
     "metadata": {},
     "output_type": "execute_result"
    }
   ],
   "source": [
    "np.random.choice(nachos, 3, replace=False)"
   ]
  },
  {
   "cell_type": "markdown",
   "metadata": {},
   "source": [
    "This means that when we sample without replacement, each time we sample, we remove the sampled option from the set."
   ]
  },
  {
   "cell_type": "markdown",
   "metadata": {},
   "source": [
    "## C. Statistical simulation\n",
    "\n",
    "In the lectures, we've defined a statistical simulation as follows:\n",
    "\n",
    "First, decide on:\n",
    "- The statistic of interest (mean $\\overline{X}$, standard deviation $S$, Total, etc.)\n",
    "- The population distribution (e.g. normal with particular mean\n",
    "  and variance) or set of discrete items\n",
    "- The sample size $n$\n",
    "- The number of replications $k$ \n",
    "\n",
    "Then simulate according to this procedure:\n",
    "- For $i$ in $1,\\dots, k$\n",
    "  - Sample $n$ items from the population distribution or set of\n",
    "    discrete items\n",
    "  - Compute and store the statistic of interest for this sample\n",
    "- Generate a histogram of the $k$ stored sample statistics\n",
    "\n",
    "**Exercise 03:** Run a statistical simulation of the mean of the exponential distribution with a sample size $n=10$ and $k=10000$ replications. You should end up with a plot that looks like the bottom left plot of Figure 3 in the lecture notes on \"Randomness, sampling and simulation\"."
   ]
  },
  {
   "cell_type": "code",
   "execution_count": 9,
   "metadata": {},
   "outputs": [
    {
     "data": {
      "text/plain": [
       "(array([   9.,  105.,  355.,  740., 1239., 1453., 1527., 1305., 1066.,\n",
       "         853.,  519.,  335.,  201.,  143.,   64.,   45.,   24.,   10.,\n",
       "           5.,    2.]),\n",
       " array([0.18605122, 0.30131825, 0.41658528, 0.5318523 , 0.64711933,\n",
       "        0.76238636, 0.87765338, 0.99292041, 1.10818744, 1.22345446,\n",
       "        1.33872149, 1.45398852, 1.56925554, 1.68452257, 1.7997896 ,\n",
       "        1.91505662, 2.03032365, 2.14559068, 2.2608577 , 2.37612473,\n",
       "        2.49139176]),\n",
       " <BarContainer object of 20 artists>)"
      ]
     },
     "execution_count": 9,
     "metadata": {},
     "output_type": "execute_result"
    },
    {
     "data": {
      "image/png": "[encoded data removed]",
      "text/plain": [
       "<Figure size 432x288 with 1 Axes>"
      ]
     },
     "metadata": {
      "needs_background": "light"
     },
     "output_type": "display_data"
    }
   ],
   "source": [
    "# Your code\n",
    "k = 10000\n",
    "n = 10\n",
    "all_means = np.zeros(k)\n",
    "for i in range(0, k):\n",
    "    x = np.random.exponential(size=n)\n",
    "    all_means[i] = x.mean()\n",
    "    \n",
    "plt.hist(all_means, 20)"
   ]
  },
  {
   "cell_type": "markdown",
   "metadata": {},
   "source": [
    "## D. Sampling Basketball Data\n",
    "\n",
    "We will now look in more detail at sampling from an observed dataset. At the end of this section we will have coded up one repetition of a statistical simulation.\n",
    "\n",
    "**Exercise 04:** \n",
    "- Load the `player_data.csv` and `salary_data.csv` in the `datasets` folder as `player_data` and `salary_data`, respectively. \n",
    "- Look at the top five entries. \n",
    "- Then combine the data sets into one data set `full_data`. \n",
    "- Normalize the salary column, such that the salary is stored in millions."
   ]
  },
  {
   "cell_type": "code",
   "execution_count": 10,
   "metadata": {},
   "outputs": [
    {
     "data": {
      "text/html": [
       "<div>\n",
       "<style scoped>\n",
       "    .dataframe tbody tr th:only-of-type {\n",
       "        vertical-align: middle;\n",
       "    }\n",
       "\n",
       "    .dataframe tbody tr th {\n",
       "        vertical-align: top;\n",
       "    }\n",
       "\n",
       "    .dataframe thead th {\n",
       "        text-align: right;\n",
       "    }\n",
       "</style>\n",
       "<table border=\"1\" class=\"dataframe\">\n",
       "  <thead>\n",
       "    <tr style=\"text-align: right;\">\n",
       "      <th></th>\n",
       "      <th>Name</th>\n",
       "      <th>Age</th>\n",
       "      <th>Team</th>\n",
       "      <th>Games</th>\n",
       "      <th>Rebounds</th>\n",
       "      <th>Assists</th>\n",
       "      <th>Steals</th>\n",
       "      <th>Blocks</th>\n",
       "      <th>Turnovers</th>\n",
       "      <th>Points</th>\n",
       "    </tr>\n",
       "  </thead>\n",
       "  <tbody>\n",
       "    <tr>\n",
       "      <th>0</th>\n",
       "      <td>James Harden</td>\n",
       "      <td>25</td>\n",
       "      <td>HOU</td>\n",
       "      <td>81</td>\n",
       "      <td>459</td>\n",
       "      <td>565</td>\n",
       "      <td>154</td>\n",
       "      <td>60</td>\n",
       "      <td>321</td>\n",
       "      <td>2217</td>\n",
       "    </tr>\n",
       "    <tr>\n",
       "      <th>1</th>\n",
       "      <td>Chris Paul</td>\n",
       "      <td>29</td>\n",
       "      <td>LAC</td>\n",
       "      <td>82</td>\n",
       "      <td>376</td>\n",
       "      <td>838</td>\n",
       "      <td>156</td>\n",
       "      <td>15</td>\n",
       "      <td>190</td>\n",
       "      <td>1564</td>\n",
       "    </tr>\n",
       "    <tr>\n",
       "      <th>2</th>\n",
       "      <td>Stephen Curry</td>\n",
       "      <td>26</td>\n",
       "      <td>GSW</td>\n",
       "      <td>80</td>\n",
       "      <td>341</td>\n",
       "      <td>619</td>\n",
       "      <td>163</td>\n",
       "      <td>16</td>\n",
       "      <td>249</td>\n",
       "      <td>1900</td>\n",
       "    </tr>\n",
       "  </tbody>\n",
       "</table>\n",
       "</div>"
      ],
      "text/plain": [
       "            Name  Age Team  Games  Rebounds  Assists  Steals  Blocks  \\\n",
       "0   James Harden   25  HOU     81       459      565     154      60   \n",
       "1     Chris Paul   29  LAC     82       376      838     156      15   \n",
       "2  Stephen Curry   26  GSW     80       341      619     163      16   \n",
       "\n",
       "   Turnovers  Points  \n",
       "0        321    2217  \n",
       "1        190    1564  \n",
       "2        249    1900  "
      ]
     },
     "execution_count": 10,
     "metadata": {},
     "output_type": "execute_result"
    }
   ],
   "source": [
    "# Your code\n",
    "player_data = pd.read_csv(\"datasets/player_data.csv\")\n",
    "salary_data = pd.read_csv(\"datasets/salary_data.csv\")\n",
    "player_data.head(3)"
   ]
  },
  {
   "cell_type": "code",
   "execution_count": 11,
   "metadata": {},
   "outputs": [
    {
     "data": {
      "text/html": [
       "<div>\n",
       "<style scoped>\n",
       "    .dataframe tbody tr th:only-of-type {\n",
       "        vertical-align: middle;\n",
       "    }\n",
       "\n",
       "    .dataframe tbody tr th {\n",
       "        vertical-align: top;\n",
       "    }\n",
       "\n",
       "    .dataframe thead th {\n",
       "        text-align: right;\n",
       "    }\n",
       "</style>\n",
       "<table border=\"1\" class=\"dataframe\">\n",
       "  <thead>\n",
       "    <tr style=\"text-align: right;\">\n",
       "      <th></th>\n",
       "      <th>PlayerName</th>\n",
       "      <th>Salary</th>\n",
       "    </tr>\n",
       "  </thead>\n",
       "  <tbody>\n",
       "    <tr>\n",
       "      <th>0</th>\n",
       "      <td>Kobe Bryant</td>\n",
       "      <td>23500000</td>\n",
       "    </tr>\n",
       "    <tr>\n",
       "      <th>1</th>\n",
       "      <td>Amar'e Stoudemire</td>\n",
       "      <td>23410988</td>\n",
       "    </tr>\n",
       "    <tr>\n",
       "      <th>2</th>\n",
       "      <td>Joe Johnson</td>\n",
       "      <td>23180790</td>\n",
       "    </tr>\n",
       "  </tbody>\n",
       "</table>\n",
       "</div>"
      ],
      "text/plain": [
       "          PlayerName    Salary\n",
       "0        Kobe Bryant  23500000\n",
       "1  Amar'e Stoudemire  23410988\n",
       "2        Joe Johnson  23180790"
      ]
     },
     "execution_count": 11,
     "metadata": {},
     "output_type": "execute_result"
    }
   ],
   "source": [
    "salary_data.head(3)"
   ]
  },
  {
   "cell_type": "code",
   "execution_count": 12,
   "metadata": {},
   "outputs": [
    {
     "data": {
      "text/html": [
       "<div>\n",
       "<style scoped>\n",
       "    .dataframe tbody tr th:only-of-type {\n",
       "        vertical-align: middle;\n",
       "    }\n",
       "\n",
       "    .dataframe tbody tr th {\n",
       "        vertical-align: top;\n",
       "    }\n",
       "\n",
       "    .dataframe thead th {\n",
       "        text-align: right;\n",
       "    }\n",
       "</style>\n",
       "<table border=\"1\" class=\"dataframe\">\n",
       "  <thead>\n",
       "    <tr style=\"text-align: right;\">\n",
       "      <th></th>\n",
       "      <th>PlayerName</th>\n",
       "      <th>Salary</th>\n",
       "      <th>Name</th>\n",
       "      <th>Age</th>\n",
       "      <th>Team</th>\n",
       "      <th>Games</th>\n",
       "      <th>Rebounds</th>\n",
       "      <th>Assists</th>\n",
       "      <th>Steals</th>\n",
       "      <th>Blocks</th>\n",
       "      <th>Turnovers</th>\n",
       "      <th>Points</th>\n",
       "    </tr>\n",
       "  </thead>\n",
       "  <tbody>\n",
       "    <tr>\n",
       "      <th>0</th>\n",
       "      <td>Kobe Bryant</td>\n",
       "      <td>23.500000</td>\n",
       "      <td>Kobe Bryant</td>\n",
       "      <td>36</td>\n",
       "      <td>LAL</td>\n",
       "      <td>35</td>\n",
       "      <td>199</td>\n",
       "      <td>197</td>\n",
       "      <td>47</td>\n",
       "      <td>7</td>\n",
       "      <td>128</td>\n",
       "      <td>782</td>\n",
       "    </tr>\n",
       "    <tr>\n",
       "      <th>1</th>\n",
       "      <td>Amar'e Stoudemire</td>\n",
       "      <td>23.410988</td>\n",
       "      <td>Amar'e Stoudemire</td>\n",
       "      <td>32</td>\n",
       "      <td>TOT</td>\n",
       "      <td>59</td>\n",
       "      <td>329</td>\n",
       "      <td>45</td>\n",
       "      <td>29</td>\n",
       "      <td>38</td>\n",
       "      <td>78</td>\n",
       "      <td>680</td>\n",
       "    </tr>\n",
       "    <tr>\n",
       "      <th>2</th>\n",
       "      <td>Joe Johnson</td>\n",
       "      <td>23.180790</td>\n",
       "      <td>Joe Johnson</td>\n",
       "      <td>33</td>\n",
       "      <td>BRK</td>\n",
       "      <td>80</td>\n",
       "      <td>384</td>\n",
       "      <td>292</td>\n",
       "      <td>59</td>\n",
       "      <td>14</td>\n",
       "      <td>137</td>\n",
       "      <td>1154</td>\n",
       "    </tr>\n",
       "  </tbody>\n",
       "</table>\n",
       "</div>"
      ],
      "text/plain": [
       "          PlayerName     Salary               Name  Age Team  Games  Rebounds  \\\n",
       "0        Kobe Bryant  23.500000        Kobe Bryant   36  LAL     35       199   \n",
       "1  Amar'e Stoudemire  23.410988  Amar'e Stoudemire   32  TOT     59       329   \n",
       "2        Joe Johnson  23.180790        Joe Johnson   33  BRK     80       384   \n",
       "\n",
       "   Assists  Steals  Blocks  Turnovers  Points  \n",
       "0      197      47       7        128     782  \n",
       "1       45      29      38         78     680  \n",
       "2      292      59      14        137    1154  "
      ]
     },
     "execution_count": 12,
     "metadata": {},
     "output_type": "execute_result"
    }
   ],
   "source": [
    "full_data = pd.merge(salary_data, player_data,\n",
    "                     left_on=\"PlayerName\", right_on=\"Name\")\n",
    "full_data['Salary']=full_data['Salary']/1000000\n",
    "full_data.head(3)"
   ]
  },
  {
   "cell_type": "markdown",
   "metadata": {},
   "source": [
    "Rather than getting data on every player (as in the tables loaded above), imagine that we had got data on only a smaller subset of the players. For 492 players, it's not so unreasonable to expect to see all the data, but usually we aren't so lucky. \n",
    "\n",
    "If we want to make estimates about a certain numerical property of the population (known as a parameter, e.g. the mean or median), we may have to come up with these estimates based only on a smaller sample. Whether these estimates are useful or not often depends on how the sample was gathered. We'll ask you to create your own samples to see how they behave.\n",
    "\n",
    "To save typing and increase the clarity of your code, we recommend packaging the analysis code into a few functions. This will be useful in the rest of the lab as we will repeatedly need to create histograms and collect summary statistics from that data.\n",
    "\n",
    "**Exercise 05:** Write a `histograms` function, which takes a data frame with columns `Age` and `Salary` and draws a histogram for each one. It should use bin widths of 1 year for `Age` and $1,000,000 for `Salary`. Test it on the `full_data` dataset."
   ]
  },
  {
   "cell_type": "code",
   "execution_count": 13,
   "metadata": {},
   "outputs": [
    {
     "data": {
      "image/png": "[encoded data removed]",
      "text/plain": [
       "<Figure size 432x288 with 2 Axes>"
      ]
     },
     "metadata": {
      "needs_background": "light"
     },
     "output_type": "display_data"
    }
   ],
   "source": [
    "# Your code\n",
    "def histograms(df):\n",
    "    # The +2 is needed to create the right number of bins\n",
    "    age_bins = np.arange(min(df['Age']), max(df['Age']) + 2, 1)\n",
    "    salary_bins = np.arange(min(df['Salary']), max(df['Salary']) + 2, 1)\n",
    "    fig, (ax1, ax2) = plt.subplots(1, 2, figsize=(6, 4))\n",
    "    ax1.hist(df['Age'], bins=age_bins)\n",
    "    ax1.set_ylabel('Frequency')\n",
    "    ax1.set_xlabel('Age (year)')\n",
    "    ax1.set_title('Age distribution')\n",
    "    ax2.hist(df['Salary'], bins=salary_bins)\n",
    "    ax2.set_xlabel('Salary (million dollars)')\n",
    "    ax2.set_title('Salary distribution') \n",
    "    plt.tight_layout()\n",
    "    \n",
    "histograms(full_data)"
   ]
  },
  {
   "cell_type": "markdown",
   "metadata": {},
   "source": [
    "**Exercise 06:** Create a `compute_statistics` which takes a data frame with columns `Age` and `Salary` Returns a pandas Series containing the mean age and mean salary. Run it on the `full_data` dataset."
   ]
  },
  {
   "cell_type": "code",
   "execution_count": 14,
   "metadata": {},
   "outputs": [
    {
     "data": {
      "text/plain": [
       "0    26.536585\n",
       "1     4.269776\n",
       "dtype: float64"
      ]
     },
     "execution_count": 14,
     "metadata": {},
     "output_type": "execute_result"
    }
   ],
   "source": [
    "# Your code\n",
    "def compute_statistics(df):\n",
    "    return pd.Series([df['Age'].mean(),\n",
    "            df['Salary'].mean()])    \n",
    "\n",
    "full_stats = compute_statistics(full_data)\n",
    "full_stats"
   ]
  },
  {
   "cell_type": "markdown",
   "metadata": {},
   "source": [
    "### Convenience sampling\n",
    "One sampling methodology, which is **generally a bad idea**, is to choose players who are somehow convenient to sample.  For example, you might choose players from one team who are near your house, since it's easier to survey them.  This is called, somewhat pejoratively, *convenience sampling*.\n",
    "\n",
    "Suppose you survey only *relatively new* players with ages less than 22.  (The more experienced players didn't bother to answer your surveys about their salaries.)\n",
    "\n",
    "**Exercise 07:**  \n",
    "- Create a copy of the full data frame containing only players under the age of 22 and call it `convenience_sample`.\n",
    "- Plut the distributions of `Age` and `Salary` using the `histograms` function.\n",
    "- Use the `compute_statistics` function on the new data frame and store the results in `convenience_stats`.\n",
    "\n",
    "Since they're computed on a sample, these are called *sample means*. "
   ]
  },
  {
   "cell_type": "code",
   "execution_count": 15,
   "metadata": {},
   "outputs": [
    {
     "data": {
      "image/png": "[encoded data removed]",
      "text/plain": [
       "<Figure size 432x288 with 2 Axes>"
      ]
     },
     "metadata": {
      "needs_background": "light"
     },
     "output_type": "display_data"
    }
   ],
   "source": [
    "# Your code\n",
    "convenience_sample = full_data[full_data['Age'] < 22]\n",
    "histograms(convenience_sample)"
   ]
  },
  {
   "cell_type": "code",
   "execution_count": 16,
   "metadata": {},
   "outputs": [
    {
     "data": {
      "text/plain": [
       "0    20.363636\n",
       "1     2.383534\n",
       "dtype: float64"
      ]
     },
     "execution_count": 16,
     "metadata": {},
     "output_type": "execute_result"
    }
   ],
   "source": [
    "# Your code\n",
    "convenience_stats = compute_statistics(convenience_sample)\n",
    "convenience_stats"
   ]
  },
  {
   "cell_type": "markdown",
   "metadata": {},
   "source": [
    "**Discussion:** Does the convenience sample give us an accurate picture of the salary of the full population? Discuss why it does or does not give an accurate picture? You may wish to refer to the means of the full data set and the convenience sample."
   ]
  },
  {
   "cell_type": "markdown",
   "metadata": {},
   "source": [
    "Your answer:\n",
    "The convenience sample does not give us an accurate picture of the salary of the full population. Younger players tend to be paid less, so we are seeing a smaller range of salaries."
   ]
  },
  {
   "cell_type": "markdown",
   "metadata": {},
   "source": [
    "### Simple random sampling\n",
    "A more justifiable approach is to sample uniformly at random from the players.  In a **simple random sample (SRS) without replacement**, we ensure that each player is selected at most once. Imagine writing down each player's name on a card, putting the cards in an box, and shaking the box.  Then, pull out cards one by one and set them aside, stopping when the specified sample size is reached."
   ]
  },
  {
   "cell_type": "markdown",
   "metadata": {},
   "source": [
    "### Producing simple random samples\n",
    "Sometimes, it’s useful to take random samples even when we have the data for the whole population. It helps us understand sampling accuracy.\n",
    "\n",
    "### `sample`\n",
    "\n",
    "The data frame method `sample` produces a random sample from the data frame. By default, it draws at random **without replacement** from the rows of a table. It takes in the sample size as its argument and returns a **data frame** with only the rows that were selected.\n",
    "\n",
    "**Careful:** The default parameter for `replace` in `pd.sample` is `replace=False`, in contrast to `np.random.choice`, where it is `replace=True`.\n",
    "\n",
    "The optional argument `replace=True` is passed to `pd.sample()` to specify that the sample should be drawn with replacement. \n",
    "\n",
    "Run the cell below to see an example call to `pd.sample()` with a sample size of 5, without replacement."
   ]
  },
  {
   "cell_type": "code",
   "execution_count": 17,
   "metadata": {},
   "outputs": [
    {
     "data": {
      "text/html": [
       "<div>\n",
       "<style scoped>\n",
       "    .dataframe tbody tr th:only-of-type {\n",
       "        vertical-align: middle;\n",
       "    }\n",
       "\n",
       "    .dataframe tbody tr th {\n",
       "        vertical-align: top;\n",
       "    }\n",
       "\n",
       "    .dataframe thead th {\n",
       "        text-align: right;\n",
       "    }\n",
       "</style>\n",
       "<table border=\"1\" class=\"dataframe\">\n",
       "  <thead>\n",
       "    <tr style=\"text-align: right;\">\n",
       "      <th></th>\n",
       "      <th>PlayerName</th>\n",
       "      <th>Salary</th>\n",
       "    </tr>\n",
       "  </thead>\n",
       "  <tbody>\n",
       "    <tr>\n",
       "      <th>21</th>\n",
       "      <td>Dwyane Wade</td>\n",
       "      <td>15000000</td>\n",
       "    </tr>\n",
       "    <tr>\n",
       "      <th>327</th>\n",
       "      <td>J.J. Barea</td>\n",
       "      <td>1302578</td>\n",
       "    </tr>\n",
       "    <tr>\n",
       "      <th>111</th>\n",
       "      <td>Jarrett Jack</td>\n",
       "      <td>6300000</td>\n",
       "    </tr>\n",
       "    <tr>\n",
       "      <th>465</th>\n",
       "      <td>Henry Walker</td>\n",
       "      <td>196217</td>\n",
       "    </tr>\n",
       "    <tr>\n",
       "      <th>12</th>\n",
       "      <td>Blake Griffin</td>\n",
       "      <td>17674613</td>\n",
       "    </tr>\n",
       "  </tbody>\n",
       "</table>\n",
       "</div>"
      ],
      "text/plain": [
       "        PlayerName    Salary\n",
       "21     Dwyane Wade  15000000\n",
       "327     J.J. Barea   1302578\n",
       "111   Jarrett Jack   6300000\n",
       "465   Henry Walker    196217\n",
       "12   Blake Griffin  17674613"
      ]
     },
     "execution_count": 17,
     "metadata": {},
     "output_type": "execute_result"
    }
   ],
   "source": [
    "salary_data.sample(5, replace=False)"
   ]
  },
  {
   "cell_type": "markdown",
   "metadata": {},
   "source": [
    "**Exercise 08:** This time we run the analysis on uniformly sampled sets.\n",
    "- Create an empty data frame `results` with two columns `Age` and `Salary`.\n",
    "- Run 100 simulations:\n",
    "    - Produce a simple random sample of size 44 (10%) from `full_data`\n",
    "    - Compute the statistics using your function\n",
    "    - Store the results of each run in a new row of the `results` data frame\n",
    "\n",
    "- Compute the mean and the variance of each column of the `results` data frame\n",
    "- Print the results data frame\n",
    "- Do the means of each simulation represent well the full data set?"
   ]
  },
  {
   "cell_type": "code",
   "execution_count": 20,
   "metadata": {},
   "outputs": [
    {
     "name": "stdout",
     "output_type": "stream",
     "text": [
      "Mean age:26.45977272727273\n",
      "Mean salary:4.2340222870454545\n",
      "Variance age:0.32410734410217895\n",
      "Variance salary:0.6065154603189956\n"
     ]
    },
    {
     "data": {
      "image/png": "[encoded data removed]",
      "text/plain": [
       "<Figure size 432x288 with 2 Axes>"
      ]
     },
     "metadata": {
      "needs_background": "light"
     },
     "output_type": "display_data"
    }
   ],
   "source": [
    "# Your code\n",
    "results = pd.DataFrame(columns=['Age', 'Salary'])\n",
    "for i in range(0,100):\n",
    "    subset = full_data.sample(44, replace=False)\n",
    "    subset_stats = compute_statistics(subset)\n",
    "    results.loc[i] = dict(Age=subset_stats[0], Salary=subset_stats[1])\n",
    "print(\"Mean age:\" + str(results.Age.mean()))\n",
    "print(\"Mean salary:\" + str(results.Salary.mean()))\n",
    "print(\"Variance age:\" + str(results.Age.var()))\n",
    "print(\"Variance salary:\" + str(results.Salary.var()))\n",
    "histograms(results)"
   ]
  },
  {
   "cell_type": "markdown",
   "metadata": {},
   "source": [
    "Your answer:\n",
    "\n",
    "By sampling randomly, the statistics are closer to the real statistics."
   ]
  },
  {
   "cell_type": "markdown",
   "metadata": {},
   "source": [
    "**Exercise 09:** Repeat exercise 08 but with a sample size of 100.\n",
    "- Do the histogram shapes seem to change more or less across samples of 100 than across samples of size 44?  \n",
    "- Are the sample means and histograms closer to their true values/shape for age or for salary? How about the variance? What did you expect to see?"
   ]
  },
  {
   "cell_type": "code",
   "execution_count": 19,
   "metadata": {},
   "outputs": [
    {
     "name": "stdout",
     "output_type": "stream",
     "text": [
      "Mean age:26.503899999999998\n",
      "Mean salary:4.260286685\n",
      "Variance age:0.15215534343434342\n",
      "Variance salary:0.13781480462242743\n"
     ]
    },
    {
     "data": {
      "text/html": [
       "<div>\n",
       "<style scoped>\n",
       "    .dataframe tbody tr th:only-of-type {\n",
       "        vertical-align: middle;\n",
       "    }\n",
       "\n",
       "    .dataframe tbody tr th {\n",
       "        vertical-align: top;\n",
       "    }\n",
       "\n",
       "    .dataframe thead th {\n",
       "        text-align: right;\n",
       "    }\n",
       "</style>\n",
       "<table border=\"1\" class=\"dataframe\">\n",
       "  <thead>\n",
       "    <tr style=\"text-align: right;\">\n",
       "      <th></th>\n",
       "      <th>Age</th>\n",
       "      <th>Salary</th>\n",
       "    </tr>\n",
       "  </thead>\n",
       "  <tbody>\n",
       "    <tr>\n",
       "      <th>0</th>\n",
       "      <td>25.79</td>\n",
       "      <td>4.047318</td>\n",
       "    </tr>\n",
       "    <tr>\n",
       "      <th>1</th>\n",
       "      <td>26.66</td>\n",
       "      <td>3.901613</td>\n",
       "    </tr>\n",
       "    <tr>\n",
       "      <th>2</th>\n",
       "      <td>25.82</td>\n",
       "      <td>3.751769</td>\n",
       "    </tr>\n",
       "    <tr>\n",
       "      <th>3</th>\n",
       "      <td>26.10</td>\n",
       "      <td>4.044142</td>\n",
       "    </tr>\n",
       "    <tr>\n",
       "      <th>4</th>\n",
       "      <td>25.93</td>\n",
       "      <td>3.881381</td>\n",
       "    </tr>\n",
       "    <tr>\n",
       "      <th>...</th>\n",
       "      <td>...</td>\n",
       "      <td>...</td>\n",
       "    </tr>\n",
       "    <tr>\n",
       "      <th>95</th>\n",
       "      <td>26.73</td>\n",
       "      <td>4.806827</td>\n",
       "    </tr>\n",
       "    <tr>\n",
       "      <th>96</th>\n",
       "      <td>25.98</td>\n",
       "      <td>4.508741</td>\n",
       "    </tr>\n",
       "    <tr>\n",
       "      <th>97</th>\n",
       "      <td>26.46</td>\n",
       "      <td>4.154448</td>\n",
       "    </tr>\n",
       "    <tr>\n",
       "      <th>98</th>\n",
       "      <td>26.56</td>\n",
       "      <td>4.027415</td>\n",
       "    </tr>\n",
       "    <tr>\n",
       "      <th>99</th>\n",
       "      <td>26.49</td>\n",
       "      <td>3.538136</td>\n",
       "    </tr>\n",
       "  </tbody>\n",
       "</table>\n",
       "<p>100 rows × 2 columns</p>\n",
       "</div>"
      ],
      "text/plain": [
       "      Age    Salary\n",
       "0   25.79  4.047318\n",
       "1   26.66  3.901613\n",
       "2   25.82  3.751769\n",
       "3   26.10  4.044142\n",
       "4   25.93  3.881381\n",
       "..    ...       ...\n",
       "95  26.73  4.806827\n",
       "96  25.98  4.508741\n",
       "97  26.46  4.154448\n",
       "98  26.56  4.027415\n",
       "99  26.49  3.538136\n",
       "\n",
       "[100 rows x 2 columns]"
      ]
     },
     "execution_count": 19,
     "metadata": {},
     "output_type": "execute_result"
    }
   ],
   "source": [
    "# Your code\n",
    "results = pd.DataFrame(columns=['Age', 'Salary'])\n",
    "for i in range(0,100):\n",
    "    subset = full_data.sample(100, replace=False)\n",
    "    subset_stats = compute_statistics(subset)\n",
    "    results.loc[i] = dict(Age=subset_stats[0], Salary=subset_stats[1])\n",
    "print(\"Mean age:\" + str(results.Age.mean()))\n",
    "print(\"Mean salary:\" + str(results.Salary.mean()))\n",
    "print(\"Variance age:\" + str(results.Age.var()))\n",
    "print(\"Variance salary:\" + str(results.Salary.var()))\n",
    "results"
   ]
  },
  {
   "cell_type": "markdown",
   "metadata": {},
   "source": [
    "Your answer:\n",
    "- The variance of the statistics is smaller. Thus these samples represent the full data better.\n",
    "- The histograms are closer to the histograms of the full data set."
   ]
  },
  {
   "cell_type": "markdown",
   "metadata": {},
   "source": [
    "## E. Statistical simulation of Alabama v Swain (1965)\n",
    "\n",
    "**Exercise 10:** Use what you've learned in this lab to replicate the simulation of the Alabama v Swain (1965) case from the lecture notes. In summary:\n",
    "- Use a statistical simulation to generate the distribution of the number of Black people on a jury panel of 100 that that would be chosen randomly from a population comprising 26% Black and 74% non-Black people\n",
    "- Plot a histogram of the distribution and also plot the actual number observed, which was 8."
   ]
  },
  {
   "cell_type": "code",
   "execution_count": null,
   "metadata": {},
   "outputs": [],
   "source": [
    "# Your answer\n",
    "population_proportions = [.26, .74]\n",
    "def panel_number_black():\n",
    "    panel = np.random.choice(['Black', 'Non-Black'], 100, True, population_proportions)\n",
    "    return(np.sum(panel == 'Black'))\n",
    "\n",
    "k = 10000\n",
    "panels = np.zeros(k)\n",
    "\n",
    "for i in np.arange(k):\n",
    "    panels[i] = panel_number_black()"
   ]
  },
  {
   "cell_type": "code",
   "execution_count": null,
   "metadata": {},
   "outputs": [],
   "source": [
    "hist_panels = plt.hist(panels, bins=np.arange(5.5,40.))\n",
    "plt.scatter(8, 10, color='red')\n",
    "plt.title('Simulation')\n",
    "\n",
    "plt.xlabel('Number of Black people on panel')\n",
    "plt.ylabel('Frequency')"
   ]
  }
 ],
 "metadata": {
  "kernelspec": {
   "display_name": "Python 3 (ipykernel)",
   "language": "python",
   "name": "python3"
  },
  "language_info": {
   "codemirror_mode": {
    "name": "ipython",
    "version": 3
   },
   "file_extension": ".py",
   "mimetype": "text/x-python",
   "name": "python",
   "nbconvert_exporter": "python",
   "pygments_lexer": "ipython3",
   "version": "3.9.2"
  }
 },
 "nbformat": 4,
 "nbformat_minor": 4
}
