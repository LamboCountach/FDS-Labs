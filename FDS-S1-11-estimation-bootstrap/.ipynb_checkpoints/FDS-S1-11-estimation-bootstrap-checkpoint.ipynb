{
 "cells": [
  {
   "cell_type": "markdown",
   "metadata": {},
   "source": [
    "# Inf2 - Foundations of Data Science\n",
    "## S2 Week 11: Estimation of confidence intervals with the bootstrap\n",
    "\n",
    "**Learning outcomes:** In this lab you will use statistical simulations to undertake bootstrap estimation of confidence intervals. By the end of this lab you should be able to:\n",
    "- code the bootstrap estimator for a number of estimators\n",
    "- validate statistical coding by comparing the output of functions with known results\n",
    "- interpret the output\n",
    "- compare the output with confidence intervals obtained by other methods\n",
    "\n",
    "This lab relates to the material in the topics on estimation and confidence intervals."
   ]
  },
  {
   "cell_type": "code",
   "execution_count": 1,
   "metadata": {},
   "outputs": [],
   "source": [
    "import numpy as np\n",
    "import pandas as pd\n",
    "import matplotlib\n",
    "%matplotlib inline\n",
    "import matplotlib.pyplot as plt\n",
    "import seaborn as sns\n",
    "import statsmodels.formula.api as smf # Regression library\n",
    "from scipy.stats import norm # Object to with member functions to do with normal distributions"
   ]
  },
  {
   "cell_type": "markdown",
   "metadata": {},
   "source": [
    "## A. Bootstrap - confidence intervals\n",
    "\n",
    "Confidence intervals give us an indication of how sure we can be that an estimate lies within particular bounds. More precisely, we can state with a specified degree of certainty the chance that the true parameter lies in the confidence interval. For example, a 95% confidence interval has a chance of 0.95 of containing the true value. There is a trade-off between width and certainty: we can increase the width of the interval to be more certain (e.g. 99% certain).\n",
    "\n",
    "We'll finish off what we started on the basketball data set in the previous lab. We had got to the point of generating the sample mean of samples of the age and salary. We'd now like to extend that code to generate confidence intervals for various statistics in the dataset. "
   ]
  },
  {
   "cell_type": "code",
   "execution_count": 2,
   "metadata": {},
   "outputs": [
    {
     "data": {
      "text/html": [
       "<div>\n",
       "<style scoped>\n",
       "    .dataframe tbody tr th:only-of-type {\n",
       "        vertical-align: middle;\n",
       "    }\n",
       "\n",
       "    .dataframe tbody tr th {\n",
       "        vertical-align: top;\n",
       "    }\n",
       "\n",
       "    .dataframe thead th {\n",
       "        text-align: right;\n",
       "    }\n",
       "</style>\n",
       "<table border=\"1\" class=\"dataframe\">\n",
       "  <thead>\n",
       "    <tr style=\"text-align: right;\">\n",
       "      <th></th>\n",
       "      <th>PlayerName</th>\n",
       "      <th>Salary</th>\n",
       "    </tr>\n",
       "  </thead>\n",
       "  <tbody>\n",
       "    <tr>\n",
       "      <th>0</th>\n",
       "      <td>Kobe Bryant</td>\n",
       "      <td>23500000</td>\n",
       "    </tr>\n",
       "    <tr>\n",
       "      <th>1</th>\n",
       "      <td>Amar'e Stoudemire</td>\n",
       "      <td>23410988</td>\n",
       "    </tr>\n",
       "    <tr>\n",
       "      <th>2</th>\n",
       "      <td>Joe Johnson</td>\n",
       "      <td>23180790</td>\n",
       "    </tr>\n",
       "    <tr>\n",
       "      <th>3</th>\n",
       "      <td>Carmelo Anthony</td>\n",
       "      <td>22458401</td>\n",
       "    </tr>\n",
       "    <tr>\n",
       "      <th>4</th>\n",
       "      <td>Dwight Howard</td>\n",
       "      <td>21436271</td>\n",
       "    </tr>\n",
       "  </tbody>\n",
       "</table>\n",
       "</div>"
      ],
      "text/plain": [
       "          PlayerName    Salary\n",
       "0        Kobe Bryant  23500000\n",
       "1  Amar'e Stoudemire  23410988\n",
       "2        Joe Johnson  23180790\n",
       "3    Carmelo Anthony  22458401\n",
       "4      Dwight Howard  21436271"
      ]
     },
     "execution_count": 2,
     "metadata": {},
     "output_type": "execute_result"
    }
   ],
   "source": [
    "player_data = pd.read_csv(\"datasets/player_data.csv\")\n",
    "salary_data = pd.read_csv(\"datasets/salary_data.csv\")\n",
    "full_data = pd.merge(salary_data, player_data,\n",
    "                     left_on=\"PlayerName\", right_on=\"Name\")\n",
    "full_data['Salary']=full_data['Salary']/1000000\n",
    "salary_data.head()"
   ]
  },
  {
   "cell_type": "markdown",
   "metadata": {},
   "source": [
    "**Exercise 01:** Using the code from last week, and the information in the lecture notes, write a bootstrap estimation routine with $k=1000$ replications to:\n",
    "1. plot the sampling distribution of the mean.\n",
    "2. find a 95% confidence interval for the mean of the salary data."
   ]
  },
  {
   "cell_type": "code",
   "execution_count": 3,
   "metadata": {},
   "outputs": [
    {
     "name": "stdout",
     "output_type": "stream",
     "text": [
      "The 95% Confidence Interval: [3.877345044715447,4.697777205284552]\n"
     ]
    },
    {
     "data": {
      "image/png": "[encoded data removed]",
      "text/plain": [
       "<Figure size 432x288 with 1 Axes>"
      ]
     },
     "metadata": {
      "needs_background": "light"
     },
     "output_type": "display_data"
    }
   ],
   "source": [
    "# Your code\n",
    "\n",
    "def bootstrap_sample(s, n):\n",
    "    return np.random.choice(s, n, replace = True)\n",
    "\n",
    "k = 1000\n",
    "replications = []\n",
    "for i in range(k):\n",
    "    # treat the salary data as the \"very large enough sample\"\n",
    "    replications.append(np.mean(bootstrap_sample(s = np.array(full_data['Salary']), n = len(full_data['Salary']))))\n",
    "plt.hist(replications)\n",
    "plt.title('Distribution of {} bootstrap means'.format(k), fontsize = 15)\n",
    "plt.xlabel('Mean')\n",
    "plt.ylabel('Frequency')\n",
    "\n",
    "replications = sorted(replications)\n",
    "alpha = 0.05\n",
    "lower_end = int(alpha*(k+1)/2)\n",
    "upper_end = k - lower_end\n",
    "\n",
    "print('The 95% Confidence Interval: [{},{}]'.format(replications[lower_end-1], replications[upper_end-1]))\n",
    "\n",
    "\n",
    "\n"
   ]
  },
  {
   "cell_type": "markdown",
   "metadata": {},
   "source": [
    "### Engineering a bootstrap function"
   ]
  },
  {
   "cell_type": "markdown",
   "metadata": {},
   "source": [
    "Later on in the lab, we are going to apply the bootstrap to a different estimator, and also run it repeatedly. We'd therefore like to turn it into a function.\n",
    "\n",
    "**Exercise 02:** Write a function called bootstrap(), which takes as its input arguments:\n",
    "1. `x`: pd.Series()\n",
    "3. `estimator`: The function (e.g. `np.mean`) that you would like to get the bootstrap confidence intervals for. Note that you can pass functions as arguments to python functions.\n",
    "4. `quantiles`: An array containing the desired quantiles\n",
    "5. `plot`: Boolean indicating if a plot of the bootstrap distribution of the estimator should be shown. `False` by default.\n",
    " \n",
    "It should return:\n",
    "1. the quantiles\n",
    "2. the bootstrap standard deviation"
   ]
  },
  {
   "cell_type": "code",
   "execution_count": 4,
   "metadata": {},
   "outputs": [],
   "source": [
    "def bootstrap(x, estimator, quantiles, plot=False):\n",
    "    B = 1000\n",
    "    \n",
    "    replications = []\n",
    "    for i in range(B):\n",
    "        samples = np.random.choice(x, len(x), replace = True)\n",
    "        replications.append(estimator(samples))\n",
    "    \n",
    "    replications = sorted(replications)\n",
    "\n",
    "    confidence_interval = []\n",
    "    alpha = quantiles[0]*2 / 100\n",
    "    lower_bound = int(alpha*(B+1)/2)\n",
    "    upper_bound = B - lower_bound\n",
    "    \n",
    "    confidence_interval.append(replications[lower_bound-1])\n",
    "    confidence_interval.append(replications[upper_bound-1])\n",
    "    \n",
    "    \n",
    "    bootstrap_standard_deviation = np.std(replications, ddof = 1)\n",
    "    \n",
    "    if plot:\n",
    "        plt.hist(replications)\n",
    "        plt.title('Distribution of {} bootstrap estimated values'.format(B), fontsize = 15)\n",
    "        plt.xlabel('Estimated value')\n",
    "        plt.ylabel('Frequency')\n",
    "      \n",
    "    return confidence_interval, bootstrap_standard_deviation"
   ]
  },
  {
   "cell_type": "markdown",
   "metadata": {},
   "source": [
    "### Testing the function"
   ]
  },
  {
   "cell_type": "markdown",
   "metadata": {},
   "source": [
    "When you want to deploy code you should always check that each function actually does what it is supposed to do. A good habit is to do what is called *unit testing* -  a method by which units of the code are checked for correctness. These are typically short code snippets that check automatically that the output of a function is as intended. In our setting, however, this would be overkill, and we can just check manually whether our function has the correct output on a known setting. In this, artificial, case we know the distribution, so we can estimate the SEM as $\\sigma_{\\overline{X}} = \\sigma/\\sqrt{n}$ . \n",
    "\n",
    "**Exercise 03:** \n",
    "- Compare the SEM computed from the full distribution with the bootstrap estimates.\n",
    "- Are they of a similar size? If so, good - if not, go back and check the bootstrap function.\n",
    "- Compare the quantiles produced by the function with the distribution produced with `plot=True`. Do the quantiles lie in the distribution?"
   ]
  },
  {
   "cell_type": "code",
   "execution_count": 5,
   "metadata": {},
   "outputs": [
    {
     "name": "stdout",
     "output_type": "stream",
     "text": [
      "Standard error of the mean computed using the full distribution: 0.21498393567341195\n",
      "Confidence interval with required quantiles: [3.8257025873983737,4.665609595528456]\n",
      "Bootstrap standard deviation: 0.20889820892403085\n"
     ]
    },
    {
     "data": {
      "image/png": "[encoded data removed]",
      "text/plain": [
       "<Figure size 432x288 with 1 Axes>"
      ]
     },
     "metadata": {
      "needs_background": "light"
     },
     "output_type": "display_data"
    }
   ],
   "source": [
    "# Your code\n",
    "sem_full_distribution = np.std(full_data['Salary']) / np.sqrt(len(full_data['Salary']))\n",
    "\n",
    "print(\"Standard error of the mean computed using the full distribution: \"+ str(sem_full_distribution))\n",
    "\n",
    "ci, bootstrap_sd = bootstrap(full_data['Salary'], np.mean, [2.5, 97.5], True)\n",
    "print(\"Confidence interval with required quantiles: [{},{}]\".format(ci[0], ci[1]))\n",
    "print(\"Bootstrap standard deviation: \"+ str(bootstrap_sd)) # It's close to the standard estimate of the mean                      "
   ]
  },
  {
   "cell_type": "markdown",
   "metadata": {},
   "source": [
    "Your answer:"
   ]
  },
  {
   "cell_type": "markdown",
   "metadata": {},
   "source": [
    "### Apply the bootstrap function to the median"
   ]
  },
  {
   "cell_type": "markdown",
   "metadata": {},
   "source": [
    "The bootstrap is very flexible - here we use it to find confidence intervals for the median, rather than the mean.\n",
    "\n",
    "**Exercise 04:** Apply your new bootstrap function to the confidence intervals of the median of the salaries, plotting the distribution."
   ]
  },
  {
   "cell_type": "code",
   "execution_count": 6,
   "metadata": {},
   "outputs": [
    {
     "data": {
      "text/plain": [
       "([2.008748, 2.8332695], 0.23633001118577504)"
      ]
     },
     "execution_count": 6,
     "metadata": {},
     "output_type": "execute_result"
    },
    {
     "data": {
      "image/png": "[encoded data removed]",
      "text/plain": [
       "<Figure size 432x288 with 1 Axes>"
      ]
     },
     "metadata": {
      "needs_background": "light"
     },
     "output_type": "display_data"
    }
   ],
   "source": [
    "# Your code\n",
    "bootstrap(full_data['Salary'], np.median, [2.5,97.5], True)"
   ]
  },
  {
   "cell_type": "markdown",
   "metadata": {},
   "source": [
    "**Discussion:** Does the distribution of the sample median look as you would expect it to? If not, what is unusual about it? Can you explain why you're seeing this?"
   ]
  },
  {
   "cell_type": "markdown",
   "metadata": {},
   "source": [
    "Your answer:"
   ]
  },
  {
   "cell_type": "markdown",
   "metadata": {},
   "source": [
    "### Comparing the bootstrap and theoretical confidence intervals for the mean"
   ]
  },
  {
   "cell_type": "markdown",
   "metadata": {},
   "source": [
    "**Exercise 05:** Determine the confidence interval for *the mean* using the theoretical method (not the bootstrap), assuming a normal distribution of the mean. **Hint:** The documentation for `scipy.stats.norm.isf()` may be helpful. Compare it with the results you got in **Exercises 02 and 03**."
   ]
  },
  {
   "cell_type": "code",
   "execution_count": 7,
   "metadata": {},
   "outputs": [
    {
     "name": "stdout",
     "output_type": "stream",
     "text": [
      "Theoretical confidence interval: [4.432347742935549,5.330955265194532]\n"
     ]
    }
   ],
   "source": [
    "# Your code\n",
    "def theoretical_confidence_interval(df, estimator, quantiles):\n",
    "    sample_size = len(df)\n",
    "    \n",
    "    sample = np.random.choice(df, sample_size, replace=True)\n",
    "    sample_mean = np.mean(sample)\n",
    "    a = norm.isf(quantiles[0] / 100)\n",
    "    b = -norm.isf(quantiles[1] / 100)\n",
    "\n",
    "    standard_error_in_the_mean = np.std(sample) / np.sqrt(sample_size)\n",
    "    lower_bound = sample_mean - a * standard_error_in_the_mean\n",
    "    upper_bound = sample_mean + b * standard_error_in_the_mean\n",
    "    \n",
    "    print(\"Theoretical confidence interval: [{},{}]\".format(lower_bound, upper_bound))\n",
    "\n",
    "theoretical_confidence_interval(full_data['Salary'], np.mean, [2.5, 97.5])\n"
   ]
  },
  {
   "cell_type": "markdown",
   "metadata": {},
   "source": [
    "Comment on your answer:"
   ]
  },
  {
   "cell_type": "markdown",
   "metadata": {},
   "source": [
    "## B. Bootstrap applied to linear regression -  output from other packages"
   ]
  },
  {
   "cell_type": "markdown",
   "metadata": {},
   "source": [
    "As we've said in the lectures, we can apply the bootstrap estimator to many different types of statistic, where by \"statistic\" we mean a value derived from the data. Above, for example, we have already used the median instead of the mean. Linear regression coefficients also count as statistics - so we should be able to used the bootstrap on them.\n",
    " \n",
    " **Exercise 06:** \n",
    " - Create a new column of `full_data` called `LogSalary`, which is the log to the base 10 of `Salary`.\n",
    " - Plot the `LogSalary` against the `Age`.\n",
    " - Fit a linear regression of the `LogSalary` to the `Age` using `statsmodels`. (See the linear regression lab).\n",
    " - Extract the best fitting `Intercept` parameter and slope parameter (called `Age`) from the result. Hint: use the `params` member variable."
   ]
  },
  {
   "cell_type": "code",
   "execution_count": 8,
   "metadata": {},
   "outputs": [
    {
     "name": "stdout",
     "output_type": "stream",
     "text": [
      "Intercept Coefficient: 5.2026666242548325\n",
      "Slope Coefficient: 0.04274912662568668\n"
     ]
    },
    {
     "data": {
      "image/png": "[encoded data removed]",
      "text/plain": [
       "<Figure size 432x288 with 1 Axes>"
      ]
     },
     "metadata": {
      "needs_background": "light"
     },
     "output_type": "display_data"
    }
   ],
   "source": [
    "# Your code\n",
    "full_data.insert(loc = len(full_data.columns), column = 'LogSalary', value = salary_data['Salary'].apply(np.log10))\n",
    "\n",
    "plt.scatter(full_data['Age'],full_data['LogSalary'])\n",
    "plt.xlabel('Age')\n",
    "plt.ylabel('Log Salary')\n",
    "logmodel = smf.ols('LogSalary ~ Age', data = full_data)\n",
    "logresults = logmodel.fit()\n",
    "intercept = logresults.params.Intercept\n",
    "age = logresults.params.Age\n",
    "print(\"Intercept Coefficient: \" + str(intercept))\n",
    "print(\"Slope Coefficient: \" + str(age))"
   ]
  },
  {
   "cell_type": "markdown",
   "metadata": {},
   "source": [
    "**Exercise 07:** Now use the code from exercise 06 to:\n",
    "\n",
    "- Write a function `beta0hat` that, given a data frame `df` with the same format as `full_data` returns the fitted intercept. \n",
    "- Write a function `beta1hat` that returns the fitted slope (`Age`) parameter. \n",
    "- Test that it gets the correct results, when given `full_data` as an argument. "
   ]
  },
  {
   "cell_type": "code",
   "execution_count": 9,
   "metadata": {},
   "outputs": [
    {
     "name": "stdout",
     "output_type": "stream",
     "text": [
      "Intercept Coefficient: 5.202666624254804\n",
      "Slope Coefficient: 0.04274912662568666\n"
     ]
    }
   ],
   "source": [
    "# Your code\n",
    "def compute_beta1hat(df):\n",
    "    x = df['Age']\n",
    "    y = df['LogSalary']\n",
    "    x_bar = np.mean(x)\n",
    "    y_bar = np.mean(y)\n",
    "    numerator = np.sum((x-x_bar) * (y - y_bar))\n",
    "    denominator = np.sum((x-x_bar)**2)\n",
    "    \n",
    "    return numerator / denominator\n",
    "\n",
    "def compute_beta0hat(df):\n",
    "    beta1hat = compute_beta1hat(df)\n",
    "    x = df['Age']\n",
    "    y = df['LogSalary']\n",
    "    x_bar = np.mean(x)\n",
    "    y_bar = np.mean(y)\n",
    "    \n",
    "    return y_bar - x_bar * beta1hat\n",
    "\n",
    "print(\"Intercept Coefficient: \" + str(compute_beta0hat(full_data)))\n",
    "print(\"Slope Coefficient: \" + str(compute_beta1hat(full_data)))"
   ]
  },
  {
   "cell_type": "markdown",
   "metadata": {},
   "source": [
    "**Exercise 08:** \n",
    "- Write a function `bootstrap_df`, which is the same as `bootstrap`, but in which the estimator can take a DataFrame as an argument, and return a statistic (i.e., just like the function `beta0hat` does).\n",
    "- Write a function `salary_mean` that returns the mean of the `Salary` column of a data frame, and use it to verify that `bootstrap_df` gives similar results to the ones you obtained above."
   ]
  },
  {
   "cell_type": "code",
   "execution_count": 10,
   "metadata": {},
   "outputs": [
    {
     "name": "stdout",
     "output_type": "stream",
     "text": [
      "95% confidence interval for the mean of salary data: [3.851061567073165,4.664782835365853]\n",
      "Population mean: 4.269775766260173\n"
     ]
    },
    {
     "data": {
      "image/png": "[encoded data removed]",
      "text/plain": [
       "<Figure size 432x288 with 1 Axes>"
      ]
     },
     "metadata": {
      "needs_background": "light"
     },
     "output_type": "display_data"
    }
   ],
   "source": [
    "# Your code\n",
    "def bootstrap_df(df, estimator, quantiles, plot=False):\n",
    "    B = 1000\n",
    "    \n",
    "    replications = []\n",
    "    for i in range(B):\n",
    "        samples = df.sample(n = len(df), replace = True)\n",
    "        replications.append(estimator(samples))\n",
    "    \n",
    "    replications = sorted(replications)\n",
    "\n",
    "    confidence_interval = []\n",
    "    alpha = quantiles[0]*2 / 100\n",
    "    lower_bound = int(alpha*(B+1)/2)\n",
    "    upper_bound = B - lower_bound\n",
    "    \n",
    "    confidence_interval.append(replications[lower_bound-1])\n",
    "    confidence_interval.append(replications[upper_bound-1])\n",
    "    \n",
    "    \n",
    "    if plot:\n",
    "        plt.hist(replications)\n",
    "        plt.title('Distribution of {} bootstrap estimated values'.format(B), fontsize = 15)\n",
    "        plt.xlabel('Estimated value')\n",
    "        plt.ylabel('Frequency')\n",
    "    \n",
    "    \n",
    "    return confidence_interval\n",
    "\n",
    "def salary_mean(x):\n",
    "    return np.mean(x)\n",
    "\n",
    "ci_95 = bootstrap_df(full_data['Salary'], np.mean, [2.5,97.5], True)\n",
    "print(\"95% confidence interval for the mean of salary data: [{},{}]\".format(ci_95[0], ci_95[1]))\n",
    "print(\"Population mean: \"+ str(salary_mean(full_data['Salary'])))\n",
    "    "
   ]
  },
  {
   "cell_type": "markdown",
   "metadata": {},
   "source": [
    "**Exercise 09:**\n",
    "Now apply the `bootstrap_df` function to get confidence intervals of\n",
    "1. the `Intercept` coefficient $\\hat\\beta_0$ of the linear regression of `Age` on `LogSalary`\n",
    "2. the slope coefficient $\\hat\\beta_1$ of the linear regression of `Age` on `LogSalary`."
   ]
  },
  {
   "cell_type": "code",
   "execution_count": 11,
   "metadata": {},
   "outputs": [
    {
     "name": "stdout",
     "output_type": "stream",
     "text": [
      "95% confidence interval for slope coefficient: [0.03270048209420335,0.05391083965937303]\n",
      "95% confidence interval for intercept coefficient: [4.886493272840855,5.474444085163635]\n"
     ]
    }
   ],
   "source": [
    "# Your code\n",
    "beta1_hat_ci = bootstrap_df(full_data, compute_beta1hat, [2.5,97.5], False)\n",
    "beta0_hat_ci = bootstrap_df(full_data, compute_beta0hat, [2.5,97.5], False)\n",
    "\n",
    "print('95% confidence interval for slope coefficient: [{},{}]'.format(beta1_hat_ci[0],beta1_hat_ci[1]))\n",
    "print('95% confidence interval for intercept coefficient: [{},{}]'. format(beta0_hat_ci[0],beta0_hat_ci[1]))"
   ]
  },
  {
   "cell_type": "markdown",
   "metadata": {},
   "source": [
    "## C. Comparison of bootstrap and theoretical confidence interval"
   ]
  },
  {
   "cell_type": "markdown",
   "metadata": {},
   "source": [
    "In this example, we don't actually have to use the bootstrap to estimate the confidence intervals; statsmodels (and many other packages) can estimate the standard error of the sampling distribution of the estimator. Run the statsmodels fit again, but this time report all the output using the `summary`."
   ]
  },
  {
   "cell_type": "code",
   "execution_count": 12,
   "metadata": {},
   "outputs": [
    {
     "data": {
      "text/html": [
       "<table class=\"simpletable\">\n",
       "<caption>OLS Regression Results</caption>\n",
       "<tr>\n",
       "  <th>Dep. Variable:</th>        <td>LogSalary</td>    <th>  R-squared:         </th> <td>   0.094</td>\n",
       "</tr>\n",
       "<tr>\n",
       "  <th>Model:</th>                   <td>OLS</td>       <th>  Adj. R-squared:    </th> <td>   0.093</td>\n",
       "</tr>\n",
       "<tr>\n",
       "  <th>Method:</th>             <td>Least Squares</td>  <th>  F-statistic:       </th> <td>   51.14</td>\n",
       "</tr>\n",
       "<tr>\n",
       "  <th>Date:</th>             <td>Sun, 11 Jun 2023</td> <th>  Prob (F-statistic):</th> <td>3.15e-12</td>\n",
       "</tr>\n",
       "<tr>\n",
       "  <th>Time:</th>                 <td>02:00:55</td>     <th>  Log-Likelihood:    </th> <td> -407.87</td>\n",
       "</tr>\n",
       "<tr>\n",
       "  <th>No. Observations:</th>      <td>   492</td>      <th>  AIC:               </th> <td>   819.7</td>\n",
       "</tr>\n",
       "<tr>\n",
       "  <th>Df Residuals:</th>          <td>   490</td>      <th>  BIC:               </th> <td>   828.1</td>\n",
       "</tr>\n",
       "<tr>\n",
       "  <th>Df Model:</th>              <td>     1</td>      <th>                     </th>     <td> </td>   \n",
       "</tr>\n",
       "<tr>\n",
       "  <th>Covariance Type:</th>      <td>nonrobust</td>    <th>                     </th>     <td> </td>   \n",
       "</tr>\n",
       "</table>\n",
       "<table class=\"simpletable\">\n",
       "<tr>\n",
       "      <td></td>         <th>coef</th>     <th>std err</th>      <th>t</th>      <th>P>|t|</th>  <th>[0.025</th>    <th>0.975]</th>  \n",
       "</tr>\n",
       "<tr>\n",
       "  <th>Intercept</th> <td>    5.2027</td> <td>    0.161</td> <td>   32.395</td> <td> 0.000</td> <td>    4.887</td> <td>    5.518</td>\n",
       "</tr>\n",
       "<tr>\n",
       "  <th>Age</th>       <td>    0.0427</td> <td>    0.006</td> <td>    7.151</td> <td> 0.000</td> <td>    0.031</td> <td>    0.054</td>\n",
       "</tr>\n",
       "</table>\n",
       "<table class=\"simpletable\">\n",
       "<tr>\n",
       "  <th>Omnibus:</th>       <td>58.598</td> <th>  Durbin-Watson:     </th> <td>   0.147</td>\n",
       "</tr>\n",
       "<tr>\n",
       "  <th>Prob(Omnibus):</th> <td> 0.000</td> <th>  Jarque-Bera (JB):  </th> <td>  82.073</td>\n",
       "</tr>\n",
       "<tr>\n",
       "  <th>Skew:</th>          <td>-0.838</td> <th>  Prob(JB):          </th> <td>1.51e-18</td>\n",
       "</tr>\n",
       "<tr>\n",
       "  <th>Kurtosis:</th>      <td> 4.094</td> <th>  Cond. No.          </th> <td>    173.</td>\n",
       "</tr>\n",
       "</table><br/><br/>Notes:<br/>[1] Standard Errors assume that the covariance matrix of the errors is correctly specified."
      ],
      "text/plain": [
       "<class 'statsmodels.iolib.summary.Summary'>\n",
       "\"\"\"\n",
       "                            OLS Regression Results                            \n",
       "==============================================================================\n",
       "Dep. Variable:              LogSalary   R-squared:                       0.094\n",
       "Model:                            OLS   Adj. R-squared:                  0.093\n",
       "Method:                 Least Squares   F-statistic:                     51.14\n",
       "Date:                Sun, 11 Jun 2023   Prob (F-statistic):           3.15e-12\n",
       "Time:                        02:00:55   Log-Likelihood:                -407.87\n",
       "No. Observations:                 492   AIC:                             819.7\n",
       "Df Residuals:                     490   BIC:                             828.1\n",
       "Df Model:                           1                                         \n",
       "Covariance Type:            nonrobust                                         \n",
       "==============================================================================\n",
       "                 coef    std err          t      P>|t|      [0.025      0.975]\n",
       "------------------------------------------------------------------------------\n",
       "Intercept      5.2027      0.161     32.395      0.000       4.887       5.518\n",
       "Age            0.0427      0.006      7.151      0.000       0.031       0.054\n",
       "==============================================================================\n",
       "Omnibus:                       58.598   Durbin-Watson:                   0.147\n",
       "Prob(Omnibus):                  0.000   Jarque-Bera (JB):               82.073\n",
       "Skew:                          -0.838   Prob(JB):                     1.51e-18\n",
       "Kurtosis:                       4.094   Cond. No.                         173.\n",
       "==============================================================================\n",
       "\n",
       "Notes:\n",
       "[1] Standard Errors assume that the covariance matrix of the errors is correctly specified.\n",
       "\"\"\""
      ]
     },
     "execution_count": 12,
     "metadata": {},
     "output_type": "execute_result"
    }
   ],
   "source": [
    "model = smf.ols('LogSalary ~ Age', data=full_data)\n",
    "results = model.fit()\n",
    "results.summary()"
   ]
  },
  {
   "cell_type": "markdown",
   "metadata": {},
   "source": [
    "Look at the middle table of the results, containing the `Intercept` and `Age` variables. In the topic and lab on linear regression we learned how to interpret the `coeff` column. We should now be able to understand the `std err` and `[0.025` and `0.975]` columns. \n",
    "- `coeff`: best estimate of `Intercept` and `Age`\n",
    "- `std err`: the standard error of the estimators of `Intercept` and `Age`\n",
    "- `[0.025`: lower bound of the 95% confidence interval of the estimators of `Intercept` and `Age`\n",
    "- `0.025]`: upper bound of the 95% confidence interval of the estimators of `Intercept` and `Age`\n",
    "\n",
    "**Discussion**:\n",
    "- Are the standard errors reported here close to the bootstrap estimates? \n",
    "- Are the confidence intervals close to the bootstrap estimates?"
   ]
  },
  {
   "cell_type": "markdown",
   "metadata": {},
   "source": [
    "Your answer:\n",
    "\n",
    "\n"
   ]
  },
  {
   "cell_type": "markdown",
   "metadata": {},
   "source": [
    "You should find that the confidence intervals are close to the bootstrap estimates. If not, check your bootstrap code again!\n",
    "\n",
    "### The meaning of the `t` and `P>|t|` columns\n",
    "\n",
    "The `t` column contains the $t$ statistics for the estimator of the intercept $\\hat\\beta_0$ and estimator of the gradient $\\hat\\beta_1$. For any estimator $\\hat\\theta$ the $t$ statistic is defined: \n",
    "\n",
    "$$t = \\frac{\\hat\\theta - 0}{\\hat\\sigma_{\\hat\\theta}}$$\n",
    "\n",
    "Here $\\hat\\theta$ is the estimator for the parameter and $\\hat\\sigma_{\\hat\\sigma}$ is the estimated standard error of the estimator.  We replace $\\hat\\theta$ with $\\hat\\beta_0$ to get the $t$-statistic of the intercept and we replace $\\hat\\theta$ with $\\hat\\beta_1$ to get the $t$-statistic of the gradient.  You can check that for each of the intercept and the gradient `t` does indeed equal the coefficient divided by the corresponding standard error. \n",
    "\n",
    "The $t$ statistic measures how far the estimated parameter (i.e. the coefficient found by statsmodels) is from zero, in units of the standard error of the estimator. Intuitively, the larger $t$ is, the less likely it is that the true value of the coefficient could be zero. \n",
    "\n",
    "The `P>|t|` column has to do with a hypothesis test. The null and alternative hypotheses are:\n",
    "\n",
    "- H<sub>0</sub> The true value of the parameter is equal to zero\n",
    "\n",
    "- H<sub>a</sub>: The parameter is equal to something else\n",
    "\n",
    "Due to the duality between confidence intervals and hypothesis tests, to test the null hypothesis we can consider the area in the tail of the sampling distribution of the estimator beyond 0 to be the *p*-value. The larger $t$ is, the smaller the area in the tail will be. In the case of both the Age and the log Salary, this *p*-value `P>|t|` is 0.  \n",
    "\n",
    "**Discussion:** Is the null hypothesis rejected or not? Does this make sense when you compare the confidence intervals to 0?"
   ]
  },
  {
   "cell_type": "markdown",
   "metadata": {},
   "source": [
    "Your answer\n",
    "\n"
   ]
  }
 ],
 "metadata": {
  "kernelspec": {
   "display_name": "Python 3 (ipykernel)",
   "language": "python",
   "name": "python3"
  },
  "language_info": {
   "codemirror_mode": {
    "name": "ipython",
    "version": 3
   },
   "file_extension": ".py",
   "mimetype": "text/x-python",
   "name": "python",
   "nbconvert_exporter": "python",
   "pygments_lexer": "ipython3",
   "version": "3.9.12"
  }
 },
 "nbformat": 4,
 "nbformat_minor": 4
}
